{
 "cells": [
  {
   "attachments": {},
   "cell_type": "markdown",
   "id": "e2083664",
   "metadata": {},
   "source": [
    "20230619 = Apenas treinamento, crossover + semantica, 100k avaliações, 500 população, <uop> com tudo\n",
    "\n",
    "standard"
   ]
  },
  {
   "cell_type": "code",
   "execution_count": 7,
   "id": "760f5dc4",
   "metadata": {},
   "outputs": [
    {
     "data": {
      "text/html": [
       "<div>\n",
       "<style scoped>\n",
       "    .dataframe tbody tr th:only-of-type {\n",
       "        vertical-align: middle;\n",
       "    }\n",
       "\n",
       "    .dataframe tbody tr th {\n",
       "        vertical-align: top;\n",
       "    }\n",
       "\n",
       "    .dataframe thead th {\n",
       "        text-align: right;\n",
       "    }\n",
       "</style>\n",
       "<table border=\"1\" class=\"dataframe\">\n",
       "  <thead>\n",
       "    <tr style=\"text-align: right;\">\n",
       "      <th></th>\n",
       "      <th>seed</th>\n",
       "      <th>time</th>\n",
       "      <th>training</th>\n",
       "      <th>test</th>\n",
       "      <th>validation</th>\n",
       "      <th>model</th>\n",
       "      <th>constants</th>\n",
       "      <th>problem</th>\n",
       "      <th>amount</th>\n",
       "      <th>variation</th>\n",
       "      <th>seed_file</th>\n",
       "    </tr>\n",
       "  </thead>\n",
       "  <tbody>\n",
       "  </tbody>\n",
       "</table>\n",
       "</div>"
      ],
      "text/plain": [
       "Empty DataFrame\n",
       "Columns: [seed, time, training, test, validation, model, constants, problem, amount, variation, seed_file]\n",
       "Index: []"
      ]
     },
     "execution_count": 7,
     "metadata": {},
     "output_type": "execute_result"
    }
   ],
   "source": [
    "import os\n",
    "import pandas as pd\n",
    "import plot as plot\n",
    "import matplotlib.pyplot as plt\n",
    "\n",
    "import warnings\n",
    "warnings.filterwarnings(\"ignore\")\n",
    "\n",
    "directory = \"results/\"\n",
    "dfs = []\n",
    "\n",
    "for root, subdirectories, files in os.walk(directory):\n",
    "    for file in files:\n",
    "        if file.endswith(\"res.csv\"):\n",
    "            df = pd.read_csv(os.path.join(root, file), sep = \";\")\n",
    "            # print(root, file, os.path.join(root, file))\n",
    "            # print(df)\n",
    "            df['problem'] = [root.split('/')[1] for i in range(len(df))]\n",
    "            df['amount'] = [root.split('/')[2] for i in range(len(df))]\n",
    "            df['variation'] = [root.split('/')[3] for i in range(len(df))]\n",
    "            df['seed_file'] = [str(seed) + '.hist' for seed in df.seed]\n",
    "            dfs.append(df)\n",
    "            \n",
    "results = pd.concat(dfs)\n",
    "results.columns = ['seed' , 'time', 'training', 'test', 'validation', 'model', 'constants', 'problem', 'amount', 'variation', 'seed_file']\n",
    "results[\"training\"] = pd.to_numeric(results[\"training\"])\n",
    "results[\"test\"] = pd.to_numeric(results[\"test\"])\n",
    "results[\"validation\"] = pd.to_numeric(results[\"validation\"])\n",
    "results = results.reset_index(drop=True)\n",
    "results"
   ]
  },
  {
   "cell_type": "code",
   "execution_count": 2,
   "id": "1d3c5e3b",
   "metadata": {},
   "outputs": [
    {
     "name": "stdout",
     "output_type": "stream",
     "text": [
      "[]\n",
      "[]\n"
     ]
    }
   ],
   "source": [
    "print(results.problem.unique())\n",
    "print(results.variation.unique())"
   ]
  },
  {
   "cell_type": "code",
   "execution_count": 3,
   "metadata": {},
   "outputs": [],
   "source": [
    "# results = results[results.variation.isin(['GGP', 'SC1-GGP', 'SC2-GGP'])]\n",
    "# results = results[results.variation.isin(['GGP', 'SM1-GGP', 'SM2-GGP'])]\n",
    "# results"
   ]
  },
  {
   "cell_type": "code",
   "execution_count": 4,
   "id": "57ab3982",
   "metadata": {},
   "outputs": [
    {
     "data": {
      "text/html": [
       "<div>\n",
       "<style scoped>\n",
       "    .dataframe tbody tr th:only-of-type {\n",
       "        vertical-align: middle;\n",
       "    }\n",
       "\n",
       "    .dataframe tbody tr th {\n",
       "        vertical-align: top;\n",
       "    }\n",
       "\n",
       "    .dataframe thead tr th {\n",
       "        text-align: left;\n",
       "    }\n",
       "</style>\n",
       "<table border=\"1\" class=\"dataframe\">\n",
       "  <thead>\n",
       "    <tr>\n",
       "      <th></th>\n",
       "      <th>problem</th>\n",
       "      <th>amount</th>\n",
       "      <th>variation</th>\n",
       "      <th colspan=\"5\" halign=\"left\">training</th>\n",
       "    </tr>\n",
       "    <tr>\n",
       "      <th></th>\n",
       "      <th></th>\n",
       "      <th></th>\n",
       "      <th></th>\n",
       "      <th>min</th>\n",
       "      <th>mean</th>\n",
       "      <th>median</th>\n",
       "      <th>max</th>\n",
       "      <th>std</th>\n",
       "    </tr>\n",
       "  </thead>\n",
       "  <tbody>\n",
       "  </tbody>\n",
       "</table>\n",
       "</div>"
      ],
      "text/plain": [
       "Empty DataFrame\n",
       "Columns: [(problem, ), (amount, ), (variation, ), (training, min), (training, mean), (training, median), (training, max), (training, std)]\n",
       "Index: []"
      ]
     },
     "execution_count": 4,
     "metadata": {},
     "output_type": "execute_result"
    }
   ],
   "source": [
    "grouped = results.groupby(['problem', 'amount', 'variation'], as_index=False).agg({'training':['min', 'mean', 'median', 'max', 'std']})\n",
    "grouped"
   ]
  },
  {
   "cell_type": "code",
   "execution_count": 5,
   "id": "13098143",
   "metadata": {},
   "outputs": [],
   "source": [
    "for problem in grouped.problem.unique():\n",
    "    fig, axs = plt.subplots(1, 4, sharey=True, figsize=(20, 8))\n",
    "    fig.suptitle(problem)\n",
    "    a = 0\n",
    "    for amount in grouped.amount.unique():\n",
    "        if amount.split(\"_\")[0] == problem:\n",
    "            for variation in grouped.variation.unique():\n",
    "                hist_dfs = []\n",
    "\n",
    "                for i, row in results.loc[(results.problem == problem) & (results.amount == amount) & (results.variation == variation)].iterrows():\n",
    "                    # print('result   s/' + row['problem'] + '/' + row['amount'] + '/' + row['variation'] + '/' + row['seed_file'])\n",
    "                    hist_df = pd.read_csv(directory + row['problem'] + '/' + row['amount'] + '/' + row['variation'] + '/' + row['seed_file'], sep=\";\", header=None)\n",
    "                    hist_df.columns = [row['seed_file'], 'time']\n",
    "                    hist_dfs.append(hist_df[[row['seed_file']]])\n",
    "\n",
    "                hist_dfs = pd.concat(hist_dfs, axis=1)\n",
    "                hist_dfs[variation + \" avg\"] = hist_dfs.mean(numeric_only=True, axis=1)\n",
    "                hist_dfs[variation + \" std\"] = hist_dfs.std(numeric_only=True, axis=1)\n",
    "\n",
    "                \n",
    "                axs[a].plot(hist_dfs.index, hist_dfs[variation + \" avg\"], lw=2, label=variation)\n",
    "                # axs[a].fill_between(hist_dfs.index, hist_dfs[variation + \" avg\"] + hist_dfs[variation + \" std\"], hist_dfs[variation + \" avg\"] - hist_dfs[variation + \" std\"], alpha=0.3)\n",
    "            \n",
    "            axs[a].set_title(amount)\n",
    "            axs[a].legend(loc='upper left')\n",
    "            axs[a].set_xlabel('Gerações')\n",
    "            axs[a].set_ylabel('MSE')\n",
    "            axs[a].grid()\n",
    "\n",
    "            a = a + 1\n",
    "\n",
    "    plt.savefig(problem + \".svg\", format=\"svg\")\n",
    "    plt.show()\n"
   ]
  }
 ],
 "metadata": {
  "kernelspec": {
   "display_name": "Python 3.8.10 64-bit",
   "language": "python",
   "name": "python3"
  },
  "language_info": {
   "codemirror_mode": {
    "name": "ipython",
    "version": 3
   },
   "file_extension": ".py",
   "mimetype": "text/x-python",
   "name": "python",
   "nbconvert_exporter": "python",
   "pygments_lexer": "ipython3",
   "version": "3.10.13"
  },
  "vscode": {
   "interpreter": {
    "hash": "916dbcbb3f70747c44a77c7bcd40155683ae19c65e1c03b4aa3499c5328201f1"
   }
  }
 },
 "nbformat": 4,
 "nbformat_minor": 5
}
