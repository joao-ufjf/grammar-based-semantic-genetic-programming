{
 "cells": [
  {
   "cell_type": "code",
   "execution_count": 1,
   "id": "1969a01e-d89c-45ae-aa69-b0abf80c20cc",
   "metadata": {},
   "outputs": [],
   "source": [
    "import numpy as np"
   ]
  },
  {
   "cell_type": "code",
   "execution_count": 2,
   "id": "1c213f21-f91a-419e-95c9-7c01bd9ebed9",
   "metadata": {},
   "outputs": [],
   "source": [
    "def sin(x):\n",
    "    return np.sin(x*np.pi/180)\n",
    "\n",
    "def cos(x):\n",
    "    return np.cos(x*np.pi/180)"
   ]
  },
  {
   "cell_type": "code",
   "execution_count": 3,
   "id": "1d8ca7ba-b8ed-4051-ade5-2fda30db8536",
   "metadata": {},
   "outputs": [],
   "source": [
    "def f1(x1, x2):\n",
    "    return 6 * np.sin(x1) * np.cos(x2)\n",
    "\n",
    "def f2(x1, x2):\n",
    "    return (x1 - 3)*(x2 - 3) + 2*np.sin((x1 - 4)*(x2 - 4))\n",
    "\n",
    "def f3(x1, x2):\n",
    "    return ((x1 - 3)**4 + (x2 - 3)**3 - (x2 - 3))/((x2 - 2)**4 + 10)\n",
    "\n",
    "def f4(x1, x2):\n",
    "    return (x1**4)/(1 + x1**4) + (x2**4)/(1 + x2**4)\n",
    "\n",
    "def f5(x1, x2):\n",
    "    return x1**4 - x1**3 + (x2**2)/2 - x2\n",
    "\n",
    "def f6(x1, x2):\n",
    "    return 8/(2 + x1**2 + x2**2)\n",
    "\n",
    "def f7(x1, x2):\n",
    "    return (x1**3)/5 + (x2**3)/2 - x2 - x1\n",
    "\n",
    "def f8(x1, x2):\n",
    "    return np.exp(-(x1 - 1)**2)/(1.2 + (x2 - 2.5)**2)"
   ]
  },
  {
   "cell_type": "code",
   "execution_count": 4,
   "id": "6acd9fa8-f45c-4fbb-858a-d1220562bdc7",
   "metadata": {},
   "outputs": [],
   "source": [
    "functions_r2 = [{'name': 'f1', 'function': f1},\n",
    "                {'name': 'f2', 'function': f2},\n",
    "                {'name': 'f3', 'function': f3},\n",
    "                {'name': 'f4', 'function': f4},\n",
    "                {'name': 'f5', 'function': f5},\n",
    "                {'name': 'f6', 'function': f6},\n",
    "                {'name': 'f7', 'function': f7},\n",
    "                {'name': 'f8', 'function': f8},\n",
    "               ]"
   ]
  },
  {
   "cell_type": "code",
   "execution_count": 5,
   "id": "5e4c6d22-fc52-4c74-bd17-e76e3c7e7aa1",
   "metadata": {},
   "outputs": [
    {
     "name": "stdout",
     "output_type": "stream",
     "text": [
      "-5.0 -4.6875 -4.375 -4.0625 -3.75 -3.4375 -3.125 -2.8125 -2.5 -2.1875 -1.875 -1.5625 -1.25 -0.9375 -0.625 -0.3125 0.0 0.3125 0.625 0.9375 1.25 1.5625 1.875 2.1875 2.5 2.8125 3.125 3.4375 3.75 4.0625 4.375 4.6875 "
     ]
    }
   ],
   "source": [
    "def interval(a, b, num):\n",
    "    return [a + (i * (b - a)/num) for i in range(num)]\n",
    "\n",
    "for x in interval(-5, 5, 32):\n",
    "    print(x, end = \" \")"
   ]
  },
  {
   "cell_type": "code",
   "execution_count": 6,
   "id": "ef507102-f11e-4aa8-bad5-7bad5b9627bb",
   "metadata": {},
   "outputs": [
    {
     "name": "stdout",
     "output_type": "stream",
     "text": [
      "f1\n",
      "f2\n",
      "f3\n",
      "f4\n",
      "f5\n",
      "f6\n",
      "f7\n",
      "f8\n"
     ]
    }
   ],
   "source": [
    "for f in functions_r2:\n",
    "    file = open(\"input/gecco2022/\" + f['name'], \"w\")\n",
    "    print(\"2 1 1024\", file=file)\n",
    "    print(\"x y \" + f['name'], file=file)\n",
    "    \n",
    "    # fm = f4(np.median(np.linspace(-5, 5, num=32)), np.median(np.linspace(-5, 5, num=32)))\n",
    "    print(f['name'])\n",
    "    for x in interval(-5, 5, num = 32):\n",
    "        for y in interval(-5, 5, num = 32):\n",
    "            # print(x, y)\n",
    "            res = f['function'](x, y)\n",
    "            \n",
    "            # print(str(x) + \" \" + str(y) + \" \" + str(res + np.abs(res - fm)/(np.sqrt(2/np.pi))), file=file)\n",
    "            # print(str(x) + \" \" + str(y) + \" \" + str(res + np.random.normal(0, 1)), file=file)\n",
    "            print(str(x) + \" \" + str(y) + \" \" + str(res), file=file)\n",
    "            \n",
    "    file.close()"
   ]
  },
  {
   "cell_type": "code",
   "execution_count": 7,
   "id": "0fa9de0b-5301-47d5-bb20-c75b562f3009",
   "metadata": {},
   "outputs": [],
   "source": [
    "index = np.arange(1024)"
   ]
  },
  {
   "cell_type": "code",
   "execution_count": 8,
   "id": "c1bf89dd-3bc8-419a-8e00-561883ab4779",
   "metadata": {},
   "outputs": [],
   "source": [
    "for seed in np.arange(1, 31):\n",
    "    np.random.shuffle(index)\n",
    "    \n",
    "    file = open(\"input/gecco2022/g\" + str(seed), \"w\")\n",
    "    print(\"410 307 307\", file=file)\n",
    "    \n",
    "    for x in index:\n",
    "        print(x, end=\" \", file=file)\n",
    "        \n",
    "    file.close()"
   ]
  },
  {
   "cell_type": "code",
   "execution_count": 9,
   "id": "5e41cbf7-851a-437b-a641-899335b9137d",
   "metadata": {},
   "outputs": [
    {
     "data": {
      "text/plain": [
       "array([-5.        , -4.67741935, -4.35483871, -4.03225806, -3.70967742,\n",
       "       -3.38709677, -3.06451613, -2.74193548, -2.41935484, -2.09677419,\n",
       "       -1.77419355, -1.4516129 , -1.12903226, -0.80645161, -0.48387097,\n",
       "       -0.16129032,  0.16129032,  0.48387097,  0.80645161,  1.12903226,\n",
       "        1.4516129 ,  1.77419355,  2.09677419,  2.41935484,  2.74193548,\n",
       "        3.06451613,  3.38709677,  3.70967742,  4.03225806,  4.35483871,\n",
       "        4.67741935,  5.        ])"
      ]
     },
     "execution_count": 9,
     "metadata": {},
     "output_type": "execute_result"
    }
   ],
   "source": [
    "np.linspace(-5, 5, num=32)"
   ]
  },
  {
   "cell_type": "code",
   "execution_count": null,
   "id": "c4ab6609-7b96-41bf-a03c-c26e6c6a0746",
   "metadata": {},
   "outputs": [],
   "source": []
  },
  {
   "cell_type": "code",
   "execution_count": null,
   "id": "e836ae4c-9297-416f-b775-d8cb7fca9b5d",
   "metadata": {},
   "outputs": [],
   "source": []
  }
 ],
 "metadata": {
  "kernelspec": {
   "display_name": "Python 3 (ipykernel)",
   "language": "python",
   "name": "python3"
  },
  "language_info": {
   "codemirror_mode": {
    "name": "ipython",
    "version": 3
   },
   "file_extension": ".py",
   "mimetype": "text/x-python",
   "name": "python",
   "nbconvert_exporter": "python",
   "pygments_lexer": "ipython3",
   "version": "3.8.10"
  }
 },
 "nbformat": 4,
 "nbformat_minor": 5
}
